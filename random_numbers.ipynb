{
 "cells": [
  {
   "cell_type": "code",
   "execution_count": 9,
   "id": "e3628069",
   "metadata": {},
   "outputs": [],
   "source": [
    "# Import the random module.\n",
    "import random"
   ]
  },
  {
   "cell_type": "code",
   "execution_count": 14,
   "id": "b202f0f4",
   "metadata": {},
   "outputs": [
    {
     "data": {
      "text/plain": [
       "-58"
      ]
     },
     "execution_count": 14,
     "metadata": {},
     "output_type": "execute_result"
    }
   ],
   "source": [
    "random.randint(-90, 90)"
   ]
  },
  {
   "cell_type": "code",
   "execution_count": 15,
   "id": "89668ac2",
   "metadata": {},
   "outputs": [
    {
     "data": {
      "text/plain": [
       "0.0620376751404228"
      ]
     },
     "execution_count": 15,
     "metadata": {},
     "output_type": "execute_result"
    }
   ],
   "source": [
    "random.random()"
   ]
  },
  {
   "cell_type": "code",
   "execution_count": 17,
   "id": "3311aff5",
   "metadata": {},
   "outputs": [
    {
     "data": {
      "text/plain": [
       "14.333088916668006"
      ]
     },
     "execution_count": 17,
     "metadata": {},
     "output_type": "execute_result"
    }
   ],
   "source": [
    "random_number = random.randint(-90,89) + random.random() \n",
    "random_number"
   ]
  },
  {
   "cell_type": "code",
   "execution_count": 20,
   "id": "a6a3c389",
   "metadata": {},
   "outputs": [
    {
     "data": {
      "text/plain": [
       "[-47.22463403409905,\n",
       " -4.9388248987954935,\n",
       " -19.951097719249216,\n",
       " 20.272528602232292,\n",
       " 75.18257971867693,\n",
       " 73.28380292971339,\n",
       " 48.95310014981024,\n",
       " -63.76696132758466,\n",
       " 33.35652622762612,\n",
       " -68.43712078189799]"
      ]
     },
     "execution_count": 20,
     "metadata": {},
     "output_type": "execute_result"
    }
   ],
   "source": [
    "x = 1\n",
    "latitudes = []\n",
    "while x < 11:\n",
    "    random_lat = random.randint(-90, 89) + random.random()\n",
    "    latitudes.append(random_lat)\n",
    "    x += 1\n",
    "latitudes"
   ]
  },
  {
   "cell_type": "code",
   "execution_count": 21,
   "id": "be620a75",
   "metadata": {},
   "outputs": [
    {
     "data": {
      "text/plain": [
       "53"
      ]
     },
     "execution_count": 21,
     "metadata": {},
     "output_type": "execute_result"
    }
   ],
   "source": [
    "random.randrange(-90, 90, step=1)"
   ]
  },
  {
   "cell_type": "code",
   "execution_count": 22,
   "id": "b720bcfb",
   "metadata": {},
   "outputs": [
    {
     "data": {
      "text/plain": [
       "45"
      ]
     },
     "execution_count": 22,
     "metadata": {},
     "output_type": "execute_result"
    }
   ],
   "source": [
    "random.randrange(-90, 90, step=3)"
   ]
  },
  {
   "cell_type": "code",
   "execution_count": 23,
   "id": "8e8d756a",
   "metadata": {},
   "outputs": [
    {
     "data": {
      "text/plain": [
       "-85.3600326277256"
      ]
     },
     "execution_count": 23,
     "metadata": {},
     "output_type": "execute_result"
    }
   ],
   "source": [
    "random.uniform(-90, 90)"
   ]
  },
  {
   "cell_type": "code",
   "execution_count": 24,
   "id": "6910316e",
   "metadata": {},
   "outputs": [],
   "source": [
    "# Import the NumPy module.\n",
    "import numpy as np"
   ]
  },
  {
   "cell_type": "code",
   "execution_count": 25,
   "id": "4b8459c6",
   "metadata": {},
   "outputs": [
    {
     "data": {
      "text/plain": [
       "87.88679007829052"
      ]
     },
     "execution_count": 25,
     "metadata": {},
     "output_type": "execute_result"
    }
   ],
   "source": [
    "np.random.uniform(-90.000, 90.000)"
   ]
  },
  {
   "cell_type": "code",
   "execution_count": 26,
   "id": "20676389",
   "metadata": {},
   "outputs": [
    {
     "data": {
      "text/plain": [
       "-82.45510868312746"
      ]
     },
     "execution_count": 26,
     "metadata": {},
     "output_type": "execute_result"
    }
   ],
   "source": [
    "np.random.uniform(low=-90, high=90)"
   ]
  },
  {
   "cell_type": "code",
   "execution_count": 27,
   "id": "0200a8a1",
   "metadata": {},
   "outputs": [
    {
     "data": {
      "text/plain": [
       "array([-89.1841709 ,  57.41415432,  26.79943818, -58.17913232,\n",
       "       -32.26878019,  36.43942617, -31.08666107,  77.68086452,\n",
       "        88.92550528,  20.14972919, -80.87130314,  74.81646348,\n",
       "        50.81945308,  -4.77412942,   3.12988251, -67.51126222,\n",
       "        -2.49262725,  28.7118632 , -34.81036479,   1.50837898,\n",
       "        -3.0122815 ,  42.95615479,  60.47729621,  -9.96488689,\n",
       "       -53.89741735,  82.76363738, -45.97828982,  20.65648723,\n",
       "        71.7721052 ,  27.33850836, -37.06983632,  64.22722114,\n",
       "       -31.4652756 , -43.5209334 ,  12.70137628, -44.3214448 ,\n",
       "        45.73089657,  10.65053906,   7.40517338,  -4.0833349 ,\n",
       "        25.2185183 , -50.60988162, -89.83361384,  30.67348684,\n",
       "       -47.29431983, -53.42571656,   9.86660377, -30.27073603,\n",
       "       -52.09980696,   9.14484965])"
      ]
     },
     "execution_count": 27,
     "metadata": {},
     "output_type": "execute_result"
    }
   ],
   "source": [
    "np.random.uniform(-90.000, 90.000, size=50)"
   ]
  },
  {
   "cell_type": "code",
   "execution_count": 28,
   "id": "225c6d5f",
   "metadata": {},
   "outputs": [],
   "source": [
    "# Import timeit.\n",
    "import timeit"
   ]
  },
  {
   "cell_type": "code",
   "execution_count": 29,
   "id": "e53cfefd",
   "metadata": {},
   "outputs": [
    {
     "name": "stdout",
     "output_type": "stream",
     "text": [
      "13.1 µs ± 807 ns per loop (mean ± std. dev. of 7 runs, 100000 loops each)\n"
     ]
    }
   ],
   "source": [
    "%timeit np.random.uniform(-90.000, 90.000, size=1500)"
   ]
  },
  {
   "cell_type": "code",
   "execution_count": 30,
   "id": "40ef38c1",
   "metadata": {},
   "outputs": [
    {
     "name": "stdout",
     "output_type": "stream",
     "text": [
      "1.47 ms ± 26.4 µs per loop (mean ± std. dev. of 7 runs, 1000 loops each)\n"
     ]
    }
   ],
   "source": [
    "def latitudes(size):\n",
    "    latitudes = []\n",
    "    x = 0\n",
    "    while x < (size):\n",
    "        random_lat = random.randint(-90, 90) + random.random()\n",
    "        latitudes.append(random_lat)\n",
    "        x += 1\n",
    "    return latitudes\n",
    "# Call the function with 1500.\n",
    "%timeit latitudes(1500)"
   ]
  },
  {
   "cell_type": "code",
   "execution_count": null,
   "id": "bdf9c5b1",
   "metadata": {},
   "outputs": [],
   "source": []
  }
 ],
 "metadata": {
  "kernelspec": {
   "display_name": "PythonData",
   "language": "python",
   "name": "pythondata"
  },
  "language_info": {
   "codemirror_mode": {
    "name": "ipython",
    "version": 3
   },
   "file_extension": ".py",
   "mimetype": "text/x-python",
   "name": "python",
   "nbconvert_exporter": "python",
   "pygments_lexer": "ipython3",
   "version": "3.7.10"
  }
 },
 "nbformat": 4,
 "nbformat_minor": 5
}
